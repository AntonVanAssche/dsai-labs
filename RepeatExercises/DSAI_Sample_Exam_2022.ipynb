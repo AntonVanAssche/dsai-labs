{
 "cells": [
  {
   "attachments": {},
   "cell_type": "markdown",
   "metadata": {},
   "source": [
    "# Examen Data Science & AI\n",
    "\n",
    "- Student: StudentNaam\n",
    "- Studentennummer: StudentNummer\n",
    "- Datum: Datum\n",
    "- Klasgroep: Klas\n"
   ]
  },
  {
   "cell_type": "code",
   "execution_count": 1,
   "metadata": {},
   "outputs": [],
   "source": [
    "# Package imports for data science\n",
    "import numpy as np\n",
    "import pandas as pd\n",
    "import scipy.stats as stats\n",
    "import matplotlib.pyplot as plt\n",
    "import seaborn as sns\n",
    "from statsmodels.graphics.mosaicplot import mosaic"
   ]
  },
  {
   "attachments": {},
   "cell_type": "markdown",
   "metadata": {},
   "source": [
    "# Vraag 1 - Wat is het meetniveau van deze variabelen?\n",
    "-   De lengte van een bloemblad (in mm)\n",
    "-   Het type bladrand van een bloem (gezaagd, gekarteld, gaaf, enz)\n",
    "-   De geur van een bloem (geen, licht, sterk, zeer sterk)\n",
    "-   Gemiddelde bloeitijd van een bloem (in dagen)\n",
    "\n",
    "Oplossing:\n",
    "\n",
    "-   Nummeriek\n",
    "-   Nominaal\n",
    "-   Nominaal\n",
    "-   Ratio"
   ]
  },
  {
   "attachments": {},
   "cell_type": "markdown",
   "metadata": {},
   "source": [
    "# Vraag 2\n",
    "\n",
    "Een marketing bedrijf werkt voor een klein aantal grote bedrijven en voor een groot aantal\n",
    "kleine bedrijven. Het bedrijf wenst een aselecte steekproef van 10% te nemen van zijn 320\n",
    "cliënten. De cliënten worden alfabetisch gesorteerd en vervolgens neemt men client 3, 13,\n",
    "23, 33, . . .\n",
    "-   Is dit een aselecte steekproef? Motiveer je antwoord.\n",
    "-   Welk soort fout wordt hier gemaakt? Leg uit.\n",
    "\n",
    "Oplossing:\n",
    "\n",
    "-   Neen, want de kans dat een cliënt wordt geselecteerd waar de naam begint met een `z` is veel kleiner dan wanneer hij zou starten met een `a`.\n",
    "-   Systematische fout, want het probleem ligt bij de manier waarop de cliënten worden geselecteerd."
   ]
  },
  {
   "attachments": {},
   "cell_type": "markdown",
   "metadata": {},
   "source": [
    "# Vraag 3\n",
    "\n",
    "Van de 180 studenten die het examen Data Science & AI afleggen zijn er 60 studenten die\n",
    "een Playstation bezitten, 110 die een XBox bezitten terwijl 40 allebei de systemen in hun\n",
    "bezit hebben.\n",
    "Noem PS (resp. XB) de gebeurtenis dat een willekeurig geselecteerde student een Play-\n",
    "station (resp. XBox) bezit.\n",
    "-   De gebeurtenissen PS en XB zijn: (afhankelijk / onafhankelijk)\n",
    "-   Geef de kans dat een willekeurig gekozen student de bezitter is van een Playstation of een XBox.\n",
    "-   Geef de kans dat een willekeurig gekozen student enkel een Playstation bezit.\n",
    "-   Geef de kans dat een student een XBox bezit als je weet dat deze student een Play-\n",
    "station heeft.\n",
    "\n",
    "Oplossing:\n",
    "\n",
    "-   Onafhankelijk\n",
    "-   $\\frac{60}{180} + \\frac{110}{180} - \\frac{40}{180} = \\frac{130}{180}$\n",
    "-   $\\frac{60}{180} - \\frac{40}{180} = \\frac{20}{180}$\n",
    "-   $\\frac{40}{60} = \\frac{2}{3}$\n"
   ]
  },
  {
   "attachments": {},
   "cell_type": "markdown",
   "metadata": {},
   "source": [
    "# Vraag 4\n",
    "\n",
    "Een autofabrikant voert een crashtest uit met een bepaald model auto en meet de bots-\n",
    "kracht. De test en het model in kwestie produceren botskrachten die normaal verdeeld zijn\n",
    "met een gemiddelde van 30 ton en een standaardafwijking van 1,5 ton. Veronderstel dat de\n",
    "fabrikant een willekeurige steekproef van 4 auto’s test en hiervan de gemiddelde botskracht\n",
    "van de steekproef berekent.\n",
    "Wat is de kans dat het steekproefgemiddelde x van de botskracht voor een steeksproef van\n",
    "4 auto’s meer is dan 30.75 ton?\n",
    "-   p(x > 30.75) ≈ 0.24\n",
    "-   P(x > 30.75) ≈ 0.09\n",
    "-   p(x > 30.75) ≈ 0.16\n",
    "-   We kunnen deze kans niet berekenen omdat het steeproefgemiddelde niet normaal verdeeld is."
   ]
  },
  {
   "cell_type": "code",
   "execution_count": 12,
   "metadata": {},
   "outputs": [
    {
     "name": "stdout",
     "output_type": "stream",
     "text": [
      "p-value: 0.19550\n",
      "p > a: do not reject H0\n"
     ]
    },
    {
     "data": {
      "image/png": "[encoded data removed]",
      "text/plain": [
       "<Figure size 640x480 with 1 Axes>"
      ]
     },
     "metadata": {},
     "output_type": "display_data"
    }
   ],
   "source": [
    "# Properties of the sample:\n",
    "n = 4           # sample size\n",
    "sm = 30.75      # sample mean\n",
    "s = 1.5         # sample standard deviation (assumed to be known)\n",
    "a = 0.05        # significance level (chosen by the researcher)\n",
    "m0 = 30.0       # hypothetical population mean (H0)\n",
    "\n",
    "# Plotting the sample distribution\n",
    "# Gauss-curve plot:\n",
    "# X-values\n",
    "dist_x = np.linspace(m0 - 4 * s/np.sqrt(n), m0 + 4 * s/np.sqrt(n), num=201)\n",
    "# Y-values for the Gauss curve\n",
    "dist_y = stats.t.pdf(dist_x, loc = m0,scale = s/np.sqrt(n), df = n-1)\n",
    "fig, dplot = plt.subplots(1, 1)\n",
    "# Plot the Gauss-curve\n",
    "dplot.plot(dist_x, dist_y)\n",
    "# Show the hypothetical population mean with an orange line\n",
    "dplot.axvline(m0, color=\"orange\", lw=2)\n",
    "# Show the sample mean with a red line\n",
    "dplot.axvline(sm, color=\"red\")\n",
    "\n",
    "p = stats.t.sf(sm, loc=m0, scale=s/np.sqrt(n), df=n-1)\n",
    "print(\"p-value: %.5f\" % p)\n",
    "if(p < a):\n",
    "    print(\"p < a: reject H0\")\n",
    "else:\n",
    "    print(\"p > a: do not reject H0\")"
   ]
  },
  {
   "attachments": {},
   "cell_type": "markdown",
   "metadata": {},
   "source": [
    "# Vraag 5\n",
    "\n",
    "Uit een populatie met standaardafwijking σ = 580 werd de hieronder gegeven steekproef\n",
    "getrokken. Bereken een 97.5%-betrouwbaarheidsinterval voor het populatiegemiddelde.\n",
    "\n",
    "-   Ondergrens\n",
    "-   Bovengrens"
   ]
  },
  {
   "cell_type": "code",
   "execution_count": 13,
   "metadata": {},
   "outputs": [],
   "source": [
    "sample = np.array([\n",
    "    4377, 4093, 4835, 5287, 3888, 5271, 4633, 4744, 5106, 5210, 5039,\n",
    "    4672, 5515, 5610, 4091, 4909, 3724, 4558, 4663, 5501, 5252, 5983,\n",
    "    4957, 5495, 4520, 5139, 4461, 5099, 4824, 3761, 5198, 4934, 3464,\n",
    "    6242, 3993, 4745, 5625, 5170, 4871, 5458, 4485, 5534, 4463, 4976,\n",
    "    4903, 3851, 5267, 4631, 5547, 5236, 4874, 4797, 4706, 5071, 5680,\n",
    "    3560, 5012, 4292, 4476, 4319, 4511, 4951, 4067, 4107, 4559, 3710,\n",
    "    3747, 4376, 3969, 5365, 5001, 5162, 3979, 3376, 4055, 4341, 4622,\n",
    "    4169, 4872, 5646, 4405, 4598, 4770, 4733, 4542, 5281, 4471, 4406,\n",
    "    4227, 4522\n",
    "])"
   ]
  },
  {
   "cell_type": "code",
   "execution_count": 15,
   "metadata": {},
   "outputs": [
    {
     "name": "stdout",
     "output_type": "stream",
     "text": [
      "z-score: 0.03134\n",
      "Confidence interval: [4721.8285, 4725.6604]\n"
     ]
    }
   ],
   "source": [
    "# Step 1.\n",
    "m = sample.mean()      # Sample mean\n",
    "s = 580      # Population standard deviation\n",
    "n = len(sample)      # Sample size\n",
    "alpha = 0.975  # 1 - alpha is the confidence level\n",
    "\n",
    "# Step 2.\n",
    "z = stats.norm.isf(alpha/2)\n",
    "print(\"z-score: %.5f\" % z)\n",
    "\n",
    "# Step 3.\n",
    "lo = m - z * s / np.sqrt(n)\n",
    "hi = m + z * s / np.sqrt(n)\n",
    "print(\"Confidence interval: [%.4f, %.4f]\" % (lo, hi))"
   ]
  },
  {
   "attachments": {},
   "cell_type": "markdown",
   "metadata": {},
   "source": [
    "Oplossing:\n",
    "\n",
    "-   Ondergrens: 4721.8285\n",
    "-   Bovengrens: 4725.6604"
   ]
  },
  {
   "attachments": {},
   "cell_type": "markdown",
   "metadata": {},
   "source": [
    "## Vraag 6\n",
    "\n",
    "De steekproef die hieronder gegeven is, bevat gerelateerde meetresultaten van een vari-\n",
    "abele Count op twee tijdstippen (time1 en time2), telkens op een overeenkomstige plaats.\n",
    "We willen weten of de metingen op het eerste tijdstip signiﬁcant verschillend zijn van die op\n",
    "het tweede tijdstip.\n",
    "Gebruik een geschikte statistische toets (met signiﬁcantieniveau 5%) om deze uitspraak te\n",
    "veriﬁëren"
   ]
  },
  {
   "cell_type": "code",
   "execution_count": 16,
   "metadata": {},
   "outputs": [],
   "source": [
    "my_sample = pd.DataFrame(data={\n",
    "    'time1': [425, 530, 607, 693, 485, 341, 590, 484, 391, 561, 572, 415, 496, 567, 320, 645, 551, 574, 553, 363],\n",
    "    'time2': [470, 382, 286, 547, 422, 574, 431, 469, 393, 424, 411, 517, 472, 368, 529, 475, 491, 658, 549, 268]\n",
    "})"
   ]
  },
  {
   "attachments": {},
   "cell_type": "markdown",
   "metadata": {},
   "source": [
    "-   Welke toets moet je gebruiken om deze onderzoeksvraag te beantwoorden? Wees zo speciﬁek mogelijk!\n",
    "-   Formuleer de nulhypothese en de alternatieve hypothese\n",
    "-   Bereken de p-waarde\n",
    "-   Trek een besluit op basis van de vorige stap en beantwoord de onderzoeksvraag.\n",
    "-   Geef het bereik voor de groep time1\n",
    "-   Geef de mediaan voor de groep time1"
   ]
  },
  {
   "cell_type": "code",
   "execution_count": 25,
   "metadata": {},
   "outputs": [
    {
     "name": "stdout",
     "output_type": "stream",
     "text": [
      "p-value: 0.94258\n",
      "p > a: do not reject H0\n",
      "range: 373.00\n",
      "mean: 540.5000\n"
     ]
    }
   ],
   "source": [
    "statistic, p = stats.ttest_rel(my_sample[\"time1\"], my_sample[\"time2\"], alternative=\"less\")\n",
    "a = 0.05\n",
    "\n",
    "print(f\"p-value: {p:.5f}\")\n",
    "if(p < a):\n",
    "    print(\"p < a: reject H0\")\n",
    "else:\n",
    "    print(\"p > a: do not reject H0\")\n",
    "\n",
    "print(f\"range: {my_sample['time1'].max() - my_sample['time1'].min():.2f}\")\n",
    "\n",
    "print(f\"mean: {my_sample['time1'].median():.4f}\")"
   ]
  },
  {
   "attachments": {},
   "cell_type": "markdown",
   "metadata": {},
   "source": [
    "Oplossing:\n",
    "\n",
    "-   $t$-test for paired samples.\n",
    "-   $H_0: \\mu_{0} = \\mu_{1}$, $H_1: \\mu_{0} \\neq \\mu_{1}$\n",
    "-   $p$-value: 0.94258\n",
    "-   Er is niet genoeg bewijs om de $H_0$ te verwerpen.\n",
    "-   Range time1: 373.00\n",
    "-   Mediaan time1: 540.5000"
   ]
  },
  {
   "attachments": {},
   "cell_type": "markdown",
   "metadata": {},
   "source": [
    "# Vraag 7\n",
    "\n",
    "In de steekproef die hieronder gegeven is, willen we onderzoeken of er een verband bestaat tussen de variabele Group (onafhankelijke variabele) en Color (afhankelijke variabele).\n",
    "Gebruik een geschikte statistische toets (met signiﬁcantieniveau 5%) om dit te onderzoeken."
   ]
  },
  {
   "cell_type": "code",
   "execution_count": 27,
   "metadata": {},
   "outputs": [],
   "source": [
    "my_sample = pd.DataFrame(data = {\n",
    "'Group': ['Staff', 'Faculty', 'Faculty', 'Staff', 'Staff', 'Student', 'Staff',\n",
    "            'Student', 'Staff', 'Faculty', 'Faculty', 'Student', 'Student',\n",
    "            'Faculty', 'Student', 'Staff', 'Student', 'Faculty', 'Staff',\n",
    "            'Staff', 'Staff', 'Staff', 'Faculty', 'Staff', 'Faculty',\n",
    "            'Faculty', 'Student', 'Staff', 'Staff', 'Staff', 'Student',\n",
    "            'Student', 'Staff', 'Faculty', 'Student', 'Staff', 'Faculty',\n",
    "            'Student', 'Faculty', 'Staff', 'Student', 'Student', 'Faculty',\n",
    "            'Student', 'Student', 'Faculty', 'Staff', 'Staff', 'Student',\n",
    "            'Student', 'Student', 'Faculty', 'Staff', 'Faculty', 'Staff',\n",
    "            'Staff', 'Student', 'Staff', 'Student', 'Staff', 'Student',\n",
    "            'Faculty', 'Staff', 'Staff', 'Faculty', 'Student', 'Staff',\n",
    "            'Staff', 'Faculty', 'Faculty', 'Staff', 'Faculty', 'Student',\n",
    "            'Student', 'Faculty', 'Staff', 'Student', 'Staff', 'Staff',\n",
    "            'Faculty'],\n",
    "'Color': ['blue', 'red', 'red', 'blue', 'blue', 'red', 'blue', 'green', 'red',\n",
    "            'red', 'green', 'red', 'blue', 'blue', 'blue', 'green',\n",
    "            'green', 'red', 'green', 'green', 'green', 'red', 'red',\n",
    "            'blue', 'green', 'blue', 'red', 'green', 'green', 'green',\n",
    "            'blue', 'green', 'green', 'red', 'green', 'green', 'blue',\n",
    "            'red', 'red', 'blue', 'green', 'green', 'green', 'green',\n",
    "            'green', 'red', 'red', 'green', 'green', 'green', 'red',\n",
    "            'green', 'green', 'green', 'red', 'blue', 'blue', 'green',\n",
    "            'red', 'green', 'green', 'red', 'red', 'green', 'red', 'blue',\n",
    "            'green', 'green', 'green', 'green', 'blue', 'red', 'red',\n",
    "            'green', 'blue', 'green', 'green', 'green', 'green', 'red']\n",
    "})"
   ]
  },
  {
   "attachments": {},
   "cell_type": "markdown",
   "metadata": {},
   "source": [
    "-   Welke toets moet je gebruiken om deze onderzoeksvraag te beantwoorden? Wees zo speciﬁek mogelijk!\n",
    "-   Bereken de teststatistiek (geef symbool en waarde)\n",
    "-   Bereken de p-waarde\n",
    "-   Trek een besluit op basis van de vorige stap en beantwoord de onderzoeksvraag.\n",
    "-   Is de regel van Cochran voldaan? Motiveer je antwoord!\n",
    "-   Bereken Cramér’s V en interpreteer deze waarde."
   ]
  },
  {
   "cell_type": "code",
   "execution_count": 38,
   "metadata": {},
   "outputs": [
    {
     "name": "stdout",
     "output_type": "stream",
     "text": [
      "Degrees of freedom: 4\n",
      "χ²                : 8.7762\n",
      "Degrees of freedom : 4\n",
      "Critical value     : 9.4877\n",
      "p-value            : 0.0669\n",
      "p > a: do not reject H0\n",
      "Cramér's V         : 0.2208\n"
     ]
    }
   ],
   "source": [
    "observed = pd.crosstab(my_sample.Group, my_sample.Color)\n",
    "chi2, p, df, expected = stats.chi2_contingency(observed)\n",
    "\n",
    "\n",
    "alpha = .05\n",
    "dimensions = observed.shape\n",
    "dof = (dimensions[0]-1) * (dimensions[1]-1)\n",
    "\n",
    "print(\"Degrees of freedom: %d\" % df)\n",
    "print(\"χ²                : %.4f\" % chi2)\n",
    "print(\"Degrees of freedom : %d\" % dof)\n",
    "\n",
    "# Calculate critical value\n",
    "g = stats.chi2.isf(alpha, df = dof)\n",
    "print(\"Critical value     : %.4f\" % g)\n",
    "\n",
    "# Calculate p-value\n",
    "p = stats.chi2.sf(chi2, df=dof)\n",
    "print(\"p-value            : %.4f\" % p)\n",
    "\n",
    "if(p < a):\n",
    "    print(\"p < a: reject H0\")\n",
    "else:\n",
    "    print(\"p > a: do not reject H0\")\n",
    "\n",
    "dof = min(observed.shape) - 1\n",
    "cramers_v = np.sqrt(chi2 / (dof * n))\n",
    "print(\"Cramér's V         : %.4f\" % cramers_v)"
   ]
  },
  {
   "attachments": {},
   "cell_type": "markdown",
   "metadata": {},
   "source": [
    "-   Chi-squared and Cramér's V\n",
    "-   χ² = 8.7762\n",
    "-   $p$-value = 0.0669\n",
    "-   Er is niet voldoende bewijs om de $H_0$ te verwerpen.\n",
    "-   Ja, \n",
    "    -   de consistency table -> 2x2\n",
    "    -   alle verwachte waarden > 1\n",
    "    -   minstens 20% van de verwachte waarden > 5\n",
    "-   $Cramér's\\ V$ = 0.2208\n",
    "    -   Er is een matige associatie tussen `Group` en `Color`."
   ]
  },
  {
   "attachments": {},
   "cell_type": "markdown",
   "metadata": {},
   "source": [
    "# Vraag 8\n",
    "\n",
    "Beschouw de steekproef die hieronder gegeven is"
   ]
  },
  {
   "cell_type": "code",
   "execution_count": 42,
   "metadata": {},
   "outputs": [],
   "source": [
    "sample_data = pd.DataFrame(data = {\n",
    "'x': [5383, 5273, 5397, 4149, 6403, 5161, 5237, 5437, 5443, 4700,\n",
    "4538, 4857, 5342, 5092, 5512, 5690, 4587, 4450, 4625,\n",
    "5044, 5066, 4770, 4960, 4500, 5315, 4598, 6106, 4879,\n",
    "4790, 4236, 5660, 4395, 5580, 5188, 4797, 4901, 5003,\n",
    "5812, 4494, 4897, 4404, 4876, 5027, 5216, 5859, 5603,\n",
    "5150, 4906, 4888, 4990, 5073, 4997, 5547, 5391, 5147,\n",
    "4967, 5020, 5580, 5493, 4664, 4396, 4868, 4518, 5154,\n",
    "4667, 5211, 5132, 6275, 4972, 4804, 5552, 5333, 4607,\n",
    "5133, 4803, 4721, 4530, 4899, 5826, 4768, 5623, 4426,\n",
    "5738, 4907, 5057, 4903, 4688, 4936, 5181, 5329, 5144,\n",
    "4927, 4024, 4890, 4176, 5638, 5070, 6315, 4795, 4887],\n",
    "'y': [4500, 4944, 4423, 4847, 4364, 4642, 4185, 4549, 4452, 4748,\n",
    "4409, 4906, 4343, 4695, 4595, 4338, 4845, 4865, 4447,\n",
    "4290, 4442, 4537, 4998, 4761, 4479, 4132, 4084, 4309,\n",
    "4416, 4717, 4446, 4160, 4409, 4499, 4703, 4375, 4513,\n",
    "4352, 4638, 4600, 4073, 4483, 4548, 4273, 4412, 4845,\n",
    "4150, 4677, 4530, 4811, 4607, 4361, 4831, 4655, 5036,\n",
    "4255, 4464, 4875, 4480, 4894, 4399, 4417, 4515, 4927,\n",
    "4041, 4527, 4525, 4536, 4462, 4355, 4473, 4828, 4293,\n",
    "4455, 4526, 4170, 4554, 4423, 4944, 4757, 4619, 4691,\n",
    "4178, 4986, 4073, 4786, 4873, 4656, 4220, 4270, 4550,\n",
    "4467, 4314, 4608, 4661, 4499, 4228, 4519, 4526, 4925]})"
   ]
  },
  {
   "attachments": {},
   "cell_type": "markdown",
   "metadata": {},
   "source": [
    "-   Bereken de richtingscoëfﬁciënt van de regressierechte\n",
    "-   Bereken het snijpunt van de regressierechte met de y-as\n",
    "-   Bereken de correlatiecoëfﬁciënt (symbool + waarde)\n",
    "-   Geef een interpretatie voor de waarde van de correlatiecoëfﬁciënt\n",
    "-   Bereken de determinatiecoëfﬁciënt (symbool + waarde)\n",
    "-   Geef een interpretatie voor de waarde van de determinatiecoëfﬁciënt"
   ]
  },
  {
   "cell_type": "code",
   "execution_count": 49,
   "metadata": {},
   "outputs": [
    {
     "name": "stdout",
     "output_type": "stream",
     "text": [
      "Regression line: ŷ = 4737.65 + -0.04 x\n",
      "4737.65\n",
      "R = -0.0808460923471555\n",
      "R² = 0.006536090647804794\n"
     ]
    },
    {
     "data": {
      "image/png": "[encoded data removed]",
      "text/plain": [
       "<Figure size 640x480 with 1 Axes>"
      ]
     },
     "metadata": {},
     "output_type": "display_data"
    }
   ],
   "source": [
    "from sklearn.linear_model import LinearRegression\n",
    "\n",
    "x = sample_data.x.values.reshape(-1,1)\n",
    "y = sample_data.y\n",
    "\n",
    "model = LinearRegression().fit(x, y)\n",
    "\n",
    "print(f\"Regression line: ŷ = {model.intercept_:.2f} + {model.coef_[0]:.2f} x\")\n",
    "\n",
    "sns.regplot(x=sample_data.x, y=sample_data.y)\n",
    "\n",
    "print(f\"{model.predict([[0]])[0]:.2f}\")\n",
    "\n",
    "cor = np.corrcoef(sample_data.x, sample_data.y)[0][1]\n",
    "print(f\"R = { cor }\")\n",
    "print(f\"R² = {cor ** 2}\")"
   ]
  },
  {
   "attachments": {},
   "cell_type": "markdown",
   "metadata": {},
   "source": [
    "-   -0.04\n",
    "-   y = 4737.65\n",
    "-   R = 0.0808460923471555\n",
    "-   Er is een zeer kleine correlatie tussen beide variable.\n",
    "-   R² = 0.006536090647804794\n",
    "-   Er is een zeer kleine correlatie tussen beide variable."
   ]
  }
 ],
 "metadata": {
  "interpreter": {
   "hash": "74f11ca9d6db33077ac69355024b06a5a22dc412016f691a181236cda006482c"
  },
  "kernelspec": {
   "display_name": "Python 3.10.4 64-bit",
   "language": "python",
   "name": "python3"
  },
  "language_info": {
   "codemirror_mode": {
    "name": "ipython",
    "version": 3
   },
   "file_extension": ".py",
   "mimetype": "text/x-python",
   "name": "python",
   "nbconvert_exporter": "python",
   "pygments_lexer": "ipython3",
   "version": "3.11.3"
  },
  "orig_nbformat": 4
 },
 "nbformat": 4,
 "nbformat_minor": 2
}
